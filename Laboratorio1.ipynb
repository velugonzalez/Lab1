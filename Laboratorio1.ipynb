{
  "nbformat": 4,
  "nbformat_minor": 0,
  "metadata": {
    "colab": {
      "name": "Laboratorio1.ipynb",
      "provenance": [],
      "collapsed_sections": []
    },
    "kernelspec": {
      "name": "python3",
      "display_name": "Python 3"
    },
    "language_info": {
      "name": "python"
    }
  },
  "cells": [
    {
      "cell_type": "markdown",
      "source": [
        "**Ejercicio 1**"
      ],
      "metadata": {
        "id": "MDwuggjNDJ8X"
      }
    },
    {
      "cell_type": "code",
      "execution_count": null,
      "metadata": {
        "id": "dZpDPI3qbf95"
      },
      "outputs": [],
      "source": [
        "def segs():\n",
        "  try:\n",
        "    Tiempo = int(input('Ingrese cantidad de segundos: '))\n",
        "    Horas = int(Tiempo/60/60)\n",
        "    print('Horas: {}'.format(Horas))\n",
        "    Minutos = int(((Tiempo/60/60) - (Tiempo/60//60))*60)\n",
        "    print('Minutos: {}'.format(Minutos))\n",
        "    Segundos = int(round(float(((Tiempo/60) - (Tiempo//60))*60),0))\n",
        "    print('Segundos: {}'.format(Segundos))\n",
        "  except(ValueError):\n",
        "    print('Dato invalido.')"
      ]
    },
    {
      "cell_type": "code",
      "source": [
        "segs()"
      ],
      "metadata": {
        "colab": {
          "base_uri": "https://localhost:8080/"
        },
        "id": "l-W-wfBkS_LH",
        "outputId": "ccb5604f-60c0-41c5-92bb-80bf2f3c4aa4"
      },
      "execution_count": null,
      "outputs": [
        {
          "output_type": "stream",
          "name": "stdout",
          "text": [
            "Ingrese cantidad de segundos: 5871\n",
            "Horas: 1\n",
            "Minutos: 37\n",
            "Segundos: 51\n"
          ]
        }
      ]
    },
    {
      "cell_type": "markdown",
      "source": [
        "**Ejercicio 2**"
      ],
      "metadata": {
        "id": "jRLDyK9fDsxE"
      }
    },
    {
      "cell_type": "code",
      "source": [
        "try:\n",
        "  nota = int(input('Ingrese nota: '))\n",
        "  aprueba = 71\n",
        "  if(nota < 50):\n",
        "    print('INSUFICIENTE -- diferencia para alcanzar nota aprobada: {} pts.'.format(aprueba-nota))\n",
        "  elif(nota <= 60):\n",
        "    print('REGULAR -- diferencia para alcanzar nota aprobada: {} pts.'.format(aprueba-nota))\n",
        "  elif(nota <= 70):\n",
        "    print('BIEN -- diferencia para alcanzar nota aprobada: {} pts.'.format(aprueba-nota))\n",
        "  elif(nota <= 90):\n",
        "    print('MUY BIEN')\n",
        "  elif(nota <= 100):\n",
        "    print('SOBRESALIENE')\n",
        "  else:\n",
        "    print(\"No se reconoce esa nota\")\n",
        "except(ValueError):\n",
        "  print(\"Los datos no son validos.\")"
      ],
      "metadata": {
        "colab": {
          "base_uri": "https://localhost:8080/"
        },
        "id": "1p672vAIGfeK",
        "outputId": "65d5646e-c7bc-4576-f6cb-6767bac80b60"
      },
      "execution_count": null,
      "outputs": [
        {
          "output_type": "stream",
          "name": "stdout",
          "text": [
            "Ingrese nota: 65\n",
            "BIEN -- diferencia para alcanzar nota aprobada: 6 pts.\n"
          ]
        }
      ]
    },
    {
      "cell_type": "markdown",
      "source": [
        "**Ejercicio 3**"
      ],
      "metadata": {
        "id": "WlUjJhFRYD6T"
      }
    },
    {
      "cell_type": "code",
      "source": [
        "try:\n",
        "  n1 = int(input('Ingrese numero mayor: '))\n",
        "  n2 = int(input('Ingrese numero menor: '))\n",
        "\n",
        "  if (n1 <= n2): \n",
        "    print(\"El primer numero debe ser mayor al segundo\")\n",
        "  else:\n",
        "    total = n1\n",
        "    for i in range(n2, n1):\n",
        "      total = total + i\n",
        "    print(f\"La suma es: {total}\")\n",
        "except (ValueError):\n",
        "  print('Dato invalido.')\n"
      ],
      "metadata": {
        "colab": {
          "base_uri": "https://localhost:8080/"
        },
        "id": "a8Ww9-i8X_Tq",
        "outputId": "8e0c89f9-dcc6-4658-97a3-3991946c5718"
      },
      "execution_count": 1,
      "outputs": [
        {
          "output_type": "stream",
          "name": "stdout",
          "text": [
            "Ingrese numero mayor: 5\n",
            "Ingrese numero menor: 2\n",
            "La suma es: 14\n"
          ]
        }
      ]
    },
    {
      "cell_type": "markdown",
      "source": [
        "**Ejercicio 4**"
      ],
      "metadata": {
        "id": "s5ImAx1e0BP2"
      }
    },
    {
      "cell_type": "code",
      "source": [
        "def factores():\n",
        "  numero = int(input(\"Escriba un numero mayor que cero: \"))\n",
        "  fac = []\n",
        "  i = 1\n",
        "  while (i <= numero):\n",
        "   if numero % i == 0:\n",
        "     fac.append (numero //i)\n",
        "   i = i + 1\n",
        "  for a in fac:\n",
        "    print (a)\n",
        "  "
      ],
      "metadata": {
        "id": "WiAs8JyZ0GB1"
      },
      "execution_count": null,
      "outputs": []
    },
    {
      "cell_type": "code",
      "source": [
        " factores()"
      ],
      "metadata": {
        "colab": {
          "base_uri": "https://localhost:8080/"
        },
        "id": "38SDaEkG_UNt",
        "outputId": "c489c1b7-6024-4a52-b68b-ed2685e7aa1a"
      },
      "execution_count": null,
      "outputs": [
        {
          "output_type": "stream",
          "name": "stdout",
          "text": [
            "Escriba un numero mayor que cero: 12\n",
            "12\n",
            "6\n",
            "4\n",
            "3\n",
            "2\n",
            "1\n"
          ]
        }
      ]
    },
    {
      "cell_type": "markdown",
      "source": [
        "**Ejercicio 5**"
      ],
      "metadata": {
        "id": "eL45sImO_o_j"
      }
    },
    {
      "cell_type": "code",
      "source": [
        "from datetime import date"
      ],
      "metadata": {
        "id": "R4oU-6xrAi4o"
      },
      "execution_count": null,
      "outputs": []
    },
    {
      "cell_type": "code",
      "source": [
        "import datetime\n",
        "hoy = date.today()\n",
        "anhoAct = hoy.year\n",
        "mesAct = hoy.month\n",
        "diaAct = hoy.day\n",
        "\n",
        "dia = int(input('Ingrese dia de nacimiento: '))\n",
        "mes = int(input('Ingrese mes de nacimiento: '))\n",
        "anio = int(input('Ingrese anio de nacimiento: '))\n",
        "\n",
        "if(dia > diaAct):\n",
        "  edadA = anhoAct - anio - 1\n",
        "  edadM = (12 - mes) + mesAct -1\n",
        "  edadD = (30 - dia) + diaAct\n",
        "else:\n",
        "  edadA = anhoAct - anio\n",
        "  edadM = mesAct - mes\n",
        "  edadD = diaAct - dia\n",
        "\n",
        "if(mes >= mesAct):\n",
        "  edadA = anhoAct - anio - 1\n",
        "  edadM = (12 - mes) + mesAct -1\n",
        "else:\n",
        "  edadA = anhoAct - anio\n",
        "  edadM = mesAct - mes\n",
        "\n",
        "print(f'la edad es: {edadA} anios, {edadM} meses y {edadD} dias')\n"
      ],
      "metadata": {
        "colab": {
          "base_uri": "https://localhost:8080/"
        },
        "id": "ge4nD4-hDmVL",
        "outputId": "d9b4c2e1-99c6-4f5b-88bd-97326efa044d"
      },
      "execution_count": null,
      "outputs": [
        {
          "output_type": "stream",
          "name": "stdout",
          "text": [
            "Ingrese dia de nacimiento: 18\n",
            "Ingrese mes de nacimiento: 9\n",
            "Ingrese anio de nacimiento: 1991\n",
            "la edad es: 30 anios, 4 meses y 23 dias\n"
          ]
        }
      ]
    },
    {
      "cell_type": "markdown",
      "source": [
        "**Ejercico 6**"
      ],
      "metadata": {
        "id": "5RUM5DeqkLQ6"
      }
    },
    {
      "cell_type": "code",
      "source": [
        "try:\n",
        "  simbol = input('Inserte simbolo: ')\n",
        "  x = int(input('Inserte cantidad de veces: '))\n",
        "\n",
        "  if (x <= 0 ):\n",
        "    raise ValueError('El numero debe ser entre 1 - 20')\n",
        "  if (x >= 21):\n",
        "    raise ValueError('El numero debe ser entre 1 - 20')\n",
        "  if (len(simbol) == 0):\n",
        "    raise ValueError('Debe ingresar un simbolo')\n",
        "  if (len(simbol) > 1):\n",
        "    raise ValueError('Solo debe ingresar un simbolo')\n",
        "  \n",
        "  espacio = ' ' * 5\n",
        "\n",
        "  for i in range(1, x+1):\n",
        "    fig1 = simbol * i\n",
        "    fig2 = simbol * (x - i + 1)\n",
        "    bloque1 = '{0:<{vx}}'. format(fig1, vx=x)\n",
        "    bloque2 = '{0:>{vx}}'. format(fig2, vx=x)\n",
        "    bloque3 = '{0:<{vx}}'. format(fig2, vx=x)\n",
        "    bloque4 = '{0:>{vx}}'. format(fig1, vx=x)\n",
        "    print(bloque1+espacio+bloque2+espacio+bloque3+espacio+bloque4)\n",
        "except (ValueError) as err:\n",
        "  print('Datos invalidos: ', str(err.args[0]))    \n"
      ],
      "metadata": {
        "id": "k6wftQM1kQA8",
        "colab": {
          "base_uri": "https://localhost:8080/"
        },
        "outputId": "77a0c6e3-1619-436b-8254-80beaa39d64a"
      },
      "execution_count": null,
      "outputs": [
        {
          "output_type": "stream",
          "name": "stdout",
          "text": [
            "Inserte simbolo: *\n",
            "Inserte cantidad de veces: 7\n",
            "*           *******     *******           *\n",
            "**           ******     ******           **\n",
            "***           *****     *****           ***\n",
            "****           ****     ****           ****\n",
            "*****           ***     ***           *****\n",
            "******           **     **           ******\n",
            "*******           *     *           *******\n"
          ]
        }
      ]
    }
  ]
}